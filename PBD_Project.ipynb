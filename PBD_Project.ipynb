{
 "cells": [
  {
   "cell_type": "code",
   "execution_count": 1,
   "metadata": {},
   "outputs": [],
   "source": [
    "import numpy as np # importing this for linear algebra calculations\n",
    "import pandas as pd"
   ]
  },
  {
   "cell_type": "code",
   "execution_count": 2,
   "metadata": {},
   "outputs": [],
   "source": [
    "real = pd.read_csv(\"True.csv\")\n",
    "fake = pd.read_csv(\"Fake.csv\")"
   ]
  },
  {
   "cell_type": "code",
   "execution_count": 8,
   "metadata": {},
   "outputs": [],
   "source": [
    "# i am reading files from current directory......."
   ]
  },
  {
   "cell_type": "code",
   "execution_count": 10,
   "metadata": {},
   "outputs": [
    {
     "data": {
      "text/html": [
       "<div>\n",
       "<style scoped>\n",
       "    .dataframe tbody tr th:only-of-type {\n",
       "        vertical-align: middle;\n",
       "    }\n",
       "\n",
       "    .dataframe tbody tr th {\n",
       "        vertical-align: top;\n",
       "    }\n",
       "\n",
       "    .dataframe thead th {\n",
       "        text-align: right;\n",
       "    }\n",
       "</style>\n",
       "<table border=\"1\" class=\"dataframe\">\n",
       "  <thead>\n",
       "    <tr style=\"text-align: right;\">\n",
       "      <th></th>\n",
       "      <th>title</th>\n",
       "      <th>text</th>\n",
       "      <th>subject</th>\n",
       "      <th>date</th>\n",
       "      <th>label</th>\n",
       "    </tr>\n",
       "  </thead>\n",
       "  <tbody>\n",
       "    <tr>\n",
       "      <th>0</th>\n",
       "      <td>As U.S. budget fight looms, Republicans flip t...</td>\n",
       "      <td>WASHINGTON (Reuters) - The head of a conservat...</td>\n",
       "      <td>politicsNews</td>\n",
       "      <td>December 31, 2017</td>\n",
       "      <td>1</td>\n",
       "    </tr>\n",
       "    <tr>\n",
       "      <th>1</th>\n",
       "      <td>U.S. military to accept transgender recruits o...</td>\n",
       "      <td>WASHINGTON (Reuters) - Transgender people will...</td>\n",
       "      <td>politicsNews</td>\n",
       "      <td>December 29, 2017</td>\n",
       "      <td>1</td>\n",
       "    </tr>\n",
       "    <tr>\n",
       "      <th>2</th>\n",
       "      <td>Senior U.S. Republican senator: 'Let Mr. Muell...</td>\n",
       "      <td>WASHINGTON (Reuters) - The special counsel inv...</td>\n",
       "      <td>politicsNews</td>\n",
       "      <td>December 31, 2017</td>\n",
       "      <td>1</td>\n",
       "    </tr>\n",
       "    <tr>\n",
       "      <th>3</th>\n",
       "      <td>FBI Russia probe helped by Australian diplomat...</td>\n",
       "      <td>WASHINGTON (Reuters) - Trump campaign adviser ...</td>\n",
       "      <td>politicsNews</td>\n",
       "      <td>December 30, 2017</td>\n",
       "      <td>1</td>\n",
       "    </tr>\n",
       "    <tr>\n",
       "      <th>4</th>\n",
       "      <td>Trump wants Postal Service to charge 'much mor...</td>\n",
       "      <td>SEATTLE/WASHINGTON (Reuters) - President Donal...</td>\n",
       "      <td>politicsNews</td>\n",
       "      <td>December 29, 2017</td>\n",
       "      <td>1</td>\n",
       "    </tr>\n",
       "  </tbody>\n",
       "</table>\n",
       "</div>"
      ],
      "text/plain": [
       "                                               title  \\\n",
       "0  As U.S. budget fight looms, Republicans flip t...   \n",
       "1  U.S. military to accept transgender recruits o...   \n",
       "2  Senior U.S. Republican senator: 'Let Mr. Muell...   \n",
       "3  FBI Russia probe helped by Australian diplomat...   \n",
       "4  Trump wants Postal Service to charge 'much mor...   \n",
       "\n",
       "                                                text       subject  \\\n",
       "0  WASHINGTON (Reuters) - The head of a conservat...  politicsNews   \n",
       "1  WASHINGTON (Reuters) - Transgender people will...  politicsNews   \n",
       "2  WASHINGTON (Reuters) - The special counsel inv...  politicsNews   \n",
       "3  WASHINGTON (Reuters) - Trump campaign adviser ...  politicsNews   \n",
       "4  SEATTLE/WASHINGTON (Reuters) - President Donal...  politicsNews   \n",
       "\n",
       "                 date  label  \n",
       "0  December 31, 2017       1  \n",
       "1  December 29, 2017       1  \n",
       "2  December 31, 2017       1  \n",
       "3  December 30, 2017       1  \n",
       "4  December 29, 2017       1  "
      ]
     },
     "execution_count": 10,
     "metadata": {},
     "output_type": "execute_result"
    }
   ],
   "source": [
    "real.head() # display head of realnews.."
   ]
  },
  {
   "cell_type": "code",
   "execution_count": 9,
   "metadata": {},
   "outputs": [
    {
     "data": {
      "text/html": [
       "<div>\n",
       "<style scoped>\n",
       "    .dataframe tbody tr th:only-of-type {\n",
       "        vertical-align: middle;\n",
       "    }\n",
       "\n",
       "    .dataframe tbody tr th {\n",
       "        vertical-align: top;\n",
       "    }\n",
       "\n",
       "    .dataframe thead th {\n",
       "        text-align: right;\n",
       "    }\n",
       "</style>\n",
       "<table border=\"1\" class=\"dataframe\">\n",
       "  <thead>\n",
       "    <tr style=\"text-align: right;\">\n",
       "      <th></th>\n",
       "      <th>title</th>\n",
       "      <th>text</th>\n",
       "      <th>subject</th>\n",
       "      <th>date</th>\n",
       "      <th>label</th>\n",
       "    </tr>\n",
       "  </thead>\n",
       "  <tbody>\n",
       "    <tr>\n",
       "      <th>0</th>\n",
       "      <td>Donald Trump Sends Out Embarrassing New Year’...</td>\n",
       "      <td>Donald Trump just couldn t wish all Americans ...</td>\n",
       "      <td>News</td>\n",
       "      <td>December 31, 2017</td>\n",
       "      <td>0</td>\n",
       "    </tr>\n",
       "    <tr>\n",
       "      <th>1</th>\n",
       "      <td>Drunk Bragging Trump Staffer Started Russian ...</td>\n",
       "      <td>House Intelligence Committee Chairman Devin Nu...</td>\n",
       "      <td>News</td>\n",
       "      <td>December 31, 2017</td>\n",
       "      <td>0</td>\n",
       "    </tr>\n",
       "    <tr>\n",
       "      <th>2</th>\n",
       "      <td>Sheriff David Clarke Becomes An Internet Joke...</td>\n",
       "      <td>On Friday, it was revealed that former Milwauk...</td>\n",
       "      <td>News</td>\n",
       "      <td>December 30, 2017</td>\n",
       "      <td>0</td>\n",
       "    </tr>\n",
       "    <tr>\n",
       "      <th>3</th>\n",
       "      <td>Trump Is So Obsessed He Even Has Obama’s Name...</td>\n",
       "      <td>On Christmas day, Donald Trump announced that ...</td>\n",
       "      <td>News</td>\n",
       "      <td>December 29, 2017</td>\n",
       "      <td>0</td>\n",
       "    </tr>\n",
       "    <tr>\n",
       "      <th>4</th>\n",
       "      <td>Pope Francis Just Called Out Donald Trump Dur...</td>\n",
       "      <td>Pope Francis used his annual Christmas Day mes...</td>\n",
       "      <td>News</td>\n",
       "      <td>December 25, 2017</td>\n",
       "      <td>0</td>\n",
       "    </tr>\n",
       "  </tbody>\n",
       "</table>\n",
       "</div>"
      ],
      "text/plain": [
       "                                               title  \\\n",
       "0   Donald Trump Sends Out Embarrassing New Year’...   \n",
       "1   Drunk Bragging Trump Staffer Started Russian ...   \n",
       "2   Sheriff David Clarke Becomes An Internet Joke...   \n",
       "3   Trump Is So Obsessed He Even Has Obama’s Name...   \n",
       "4   Pope Francis Just Called Out Donald Trump Dur...   \n",
       "\n",
       "                                                text subject  \\\n",
       "0  Donald Trump just couldn t wish all Americans ...    News   \n",
       "1  House Intelligence Committee Chairman Devin Nu...    News   \n",
       "2  On Friday, it was revealed that former Milwauk...    News   \n",
       "3  On Christmas day, Donald Trump announced that ...    News   \n",
       "4  Pope Francis used his annual Christmas Day mes...    News   \n",
       "\n",
       "                date  label  \n",
       "0  December 31, 2017      0  \n",
       "1  December 31, 2017      0  \n",
       "2  December 30, 2017      0  \n",
       "3  December 29, 2017      0  \n",
       "4  December 25, 2017      0  "
      ]
     },
     "execution_count": 9,
     "metadata": {},
     "output_type": "execute_result"
    }
   ],
   "source": [
    "fake.head() #display head of fake news..."
   ]
  },
  {
   "cell_type": "code",
   "execution_count": 12,
   "metadata": {},
   "outputs": [],
   "source": [
    "#As this is a supervised learning problem, we are creating a target column named ‘label’ in both real and fake news data and concatenating them. with this thing we can check if data is balanced or not."
   ]
  },
  {
   "cell_type": "code",
   "execution_count": 13,
   "metadata": {},
   "outputs": [],
   "source": [
    "real['label'] = 1\n",
    "fake['label'] = 0\n",
    "data = pd.concat([real, fake])"
   ]
  },
  {
   "cell_type": "code",
   "execution_count": 14,
   "metadata": {},
   "outputs": [
    {
     "data": {
      "image/png": "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\n",
      "text/plain": [
       "<Figure size 432x288 with 1 Axes>"
      ]
     },
     "metadata": {},
     "output_type": "display_data"
    }
   ],
   "source": [
    "import seaborn as sns\n",
    "sns.set_style(\"darkgrid\")\n",
    "sns.countplot(data['label']);"
   ]
  },
  {
   "cell_type": "code",
   "execution_count": 15,
   "metadata": {},
   "outputs": [],
   "source": [
    "# it is seen that data is balanced."
   ]
  },
  {
   "cell_type": "code",
   "execution_count": 16,
   "metadata": {},
   "outputs": [
    {
     "data": {
      "text/plain": [
       "title      0\n",
       "text       0\n",
       "subject    0\n",
       "date       0\n",
       "label      0\n",
       "dtype: int64"
      ]
     },
     "execution_count": 16,
     "metadata": {},
     "output_type": "execute_result"
    }
   ],
   "source": [
    "data.isnull().sum()"
   ]
  },
  {
   "cell_type": "code",
   "execution_count": 17,
   "metadata": {},
   "outputs": [],
   "source": [
    "# luckily there are no null values. So we dont need normalization here or anything."
   ]
  },
  {
   "cell_type": "code",
   "execution_count": null,
   "metadata": {},
   "outputs": [],
   "source": [
<<<<<<< HEAD
    "ghfiykip\n",
    "hjyuifici\n",
    "vgh7tyificuc"
=======
    "ssdfsdfsdfsdfsdfsdgsdg\n",
    "fsdfsdfsdfsdfasdas\n",
    "gsdgsdgsdg\n",
    "sasfgsdg\n"
>>>>>>> 9912fd36935622ddbec836916f8c3635749135bb
   ]
  }
 ],
 "metadata": {
  "kernelspec": {
   "display_name": "Python 3",
   "language": "python",
   "name": "python3"
  },
  "language_info": {
   "codemirror_mode": {
    "name": "ipython",
    "version": 3
   },
   "file_extension": ".py",
   "mimetype": "text/x-python",
   "name": "python",
   "nbconvert_exporter": "python",
   "pygments_lexer": "ipython3",
   "version": "3.7.6"
  }
 },
 "nbformat": 4,
 "nbformat_minor": 4
}